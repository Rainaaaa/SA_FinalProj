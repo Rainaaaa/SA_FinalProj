{
 "cells": [
  {
   "attachments": {},
   "cell_type": "markdown",
   "metadata": {},
   "source": [
    "# 1. Modeling preparation"
   ]
  },
  {
   "cell_type": "code",
   "execution_count": 37,
   "metadata": {},
   "outputs": [],
   "source": [
    "# Import packages\n",
    "import copy\n",
    "import time\n",
    "import numpy as np\n",
    "import pandas as pd\n",
    "import matplotlib.pyplot as plt\n",
    "\n",
    "\n",
    "import warnings\n",
    "warnings.filterwarnings('ignore')\n",
    "\n",
    "\n",
    "from sklearn.model_selection import train_test_split\n",
    "from sklearn.preprocessing import StandardScaler\n",
    "from sklearn.model_selection import KFold\n",
    "from sklearn.metrics import f1_score, precision_score, recall_score, accuracy_score\n",
    "from sklearn.metrics import roc_curve, precision_recall_curve, f1_score, mean_squared_error\n",
    "from sklearn.metrics import plot_confusion_matrix\n",
    "\n",
    "# Traditional ML methods\n",
    "from sklearn.linear_model import LogisticRegression\n",
    "from sklearn.neighbors import KNeighborsClassifier\n",
    "from sklearn.tree import DecisionTreeClassifier\n",
    "from sklearn.ensemble import RandomForestClassifier\n",
    "from xgboost import XGBClassifier\n",
    "\n",
    "\n",
    "\n",
    "# Emsemble learning: Stacking\n",
    "\n",
    "# NN\n",
    "\n",
    "# LM\n"
   ]
  },
  {
   "cell_type": "code",
   "execution_count": 57,
   "metadata": {},
   "outputs": [],
   "source": [
    "# Load Data\n",
    "X = np.load('./Processed_data/X.npy')\n",
    "Y = np.load('./Processed_data/Y.npy')\n",
    "\n",
    "x_names = np.load('./Processed_data/x_names.npy')\n",
    "y_names = np.load('./Processed_data/y_names.npy')\n",
    "\n",
    "# X[~np.isnan(X).any(axis=1)].shape # drop 有nan的行\n",
    "X = np.nan_to_num(X) # nan to 0"
   ]
  },
  {
   "cell_type": "code",
   "execution_count": 40,
   "metadata": {},
   "outputs": [],
   "source": [
    "# train test split\n",
    "def dataset_split(X,y,isVal=False):\n",
    "    if isVal:\n",
    "        X_train, X_test, y_train, y_test = train_test_split(X, y, test_size=0.2, random_state=42)\n",
    "        X_test, X_val, y_test, y_val = train_test_split(X_test, y_test, test_size=0.2, random_state=42)\n",
    "        return X_train, y_train, X_test, y_test, X_val, y_val\n",
    "    else:\n",
    "        X_train, X_test, y_train, y_test = train_test_split(X, y, test_size=0.5, random_state=42)\n",
    "        return X_train, y_train, X_test, y_test\n",
    "\n",
    "\n",
    "# 可以用于train&test，以及grid search时的eval\n",
    "def fit_eval_model(classifer,X_train, y_train,X_test, y_test,label_name = None):\n",
    "\n",
    "    # Transform the test data using the vectorizer\n",
    "    classifer.fit(X_train, y_train)\n",
    "\n",
    "    # Predict the labels and probabilities for the test data\n",
    "    y_pred_proba = classifer.predict_proba(X_test)[:, 1]\n",
    "    y_pred = classifer.predict(X_test)\n",
    "    \n",
    "    \n",
    "    # Calculate ROC and PRC\n",
    "    fpr, tpr, _ = roc_curve(y_test, y_pred_proba)\n",
    "    precision, recall, _ = precision_recall_curve(y_test, y_pred_proba)\n",
    "\n",
    "    # Plot ROC and PRC\n",
    "    plt.plot(fpr, tpr, label=\"ROC\")\n",
    "    plt.plot(recall, precision, label=\"PRC\")\n",
    "    plt.title(label_name+' :ROC VS PRC')\n",
    "    plt.legend()\n",
    "    plt.show()\n",
    "    \n",
    "    # Calculate F1-score, ac, recall, precision\n",
    "    accuracy = accuracy_score(y_test, y_pred)\n",
    "    recall = recall_score(y_test, y_pred, average='weighted')\n",
    "    precision = precision_score(y_test, y_pred, average='weighted')\n",
    "    f1 = f1_score(y_test, y_pred, average='weighted')\n",
    "    mse = mean_squared_error(y_test, y_pred_proba)\n",
    "\n",
    "    print(f\"-----------------------{label_name}-----------------------\")\n",
    "    print(f\"Accuracy: {accuracy}\")\n",
    "    print(f\"Recall: {recall}\")\n",
    "    print(f\"Precision: {precision}\")\n",
    "    print(f\"F1-score: {f1}\")\n",
    "    print(f\"MSE: {mse}\")\n",
    "\n",
    "\n",
    "    return y_pred_proba, classifer,{'accuracy':accuracy,'recall':recall,'precision':precision,'f1':f1}\n",
    "\n",
    "\n",
    "# 有空做一下交叉验证\n",
    "def Kfold_cv(X,y,classifer,n_splits = 5,model_name = None):\n",
    "    kf = KFold(n_splits=n_splits, shuffle=True, random_state=42)\n",
    "    y_true = np.array([])\n",
    "    y_proba = np.array([])\n",
    "\n",
    "    for fold, (train_indices, test_indices) in enumerate(kf.split(X)):\n",
    "        X_train, y_train = X[train_indices], y[train_indices]\n",
    "        X_test, y_test = X[test_indices], y[test_indices]\n",
    "\n",
    "        y_pred_proba, model, eval = fit_eval_model(X_train, y_train,X_test, y_test,classifer,label_name = f\"Model {model_name}-Fold {fold}\")\n",
    "\n",
    "        # Concatenate the true labels and predicted probabilities for this fold\n",
    "        y_true = np.concatenate([y_true, y_test])\n",
    "        y_proba = np.concatenate([y_proba, y_pred_proba])\n",
    "\n",
    "\n",
    "    # Compute and print the average F1-score across all folds\n",
    "    eval = pd.DataFrame(eval).mean()\n",
    "    print(eval)\n",
    "\n",
    "    return model, eval"
   ]
  },
  {
   "attachments": {},
   "cell_type": "markdown",
   "metadata": {},
   "source": [
    "## 2.Training"
   ]
  },
  {
   "cell_type": "code",
   "execution_count": 58,
   "metadata": {},
   "outputs": [],
   "source": [
    "# Initiate classifier (Binary)\n",
    "\n",
    "binary_model_dict = {\n",
    "    'LogisticRegression':LogisticRegression(penalty='l2',C=1.0,\n",
    "    random_state=42,solver='saga', n_jobs=2),\n",
    "    \n",
    "    'KNeighborsClassifier':KNeighborsClassifier(n_neighbors=5, n_jobs=2),\n",
    "\n",
    "    'DecisionTreeClassifier':DecisionTreeClassifier(max_depth=5, random_state=42),\n",
    "\n",
    "    'RandomForestClassifier':RandomForestClassifier(n_estimators = 100,\n",
    "    max_depth=5, random_state=42),\n",
    "\n",
    "    'Xgboost':XGBClassifier(n_estimators = 100,max_depth=5, \n",
    "    random_state=42,learning_rate=0.1),\n",
    "}"
   ]
  },
  {
   "cell_type": "code",
   "execution_count": 63,
   "metadata": {},
   "outputs": [],
   "source": [
    "# 纯 train test fit 看效果\n",
    "X_train, y_train, X_test, y_test = dataset_split(X,Y)\n",
    "\n",
    "# process Y: binary and multi \n",
    "y_train_binary = y_train.T[-1]\n",
    "y_test_binary = y_test.T[-1]"
   ]
  },
  {
   "cell_type": "code",
   "execution_count": 65,
   "metadata": {},
   "outputs": [
    {
     "data": {
      "text/plain": [
       "(1050002,)"
      ]
     },
     "execution_count": 65,
     "metadata": {},
     "output_type": "execute_result"
    }
   ],
   "source": [
    "y_test_binary.shape"
   ]
  },
  {
   "cell_type": "code",
   "execution_count": 66,
   "metadata": {},
   "outputs": [
    {
     "data": {
      "image/png": "[encoded data removed]",
      "text/plain": [
       "<Figure size 640x480 with 1 Axes>"
      ]
     },
     "metadata": {},
     "output_type": "display_data"
    },
    {
     "name": "stdout",
     "output_type": "stream",
     "text": [
      "-----------------------LogisticRegression-----------------------\n",
      "Accuracy: 0.9999304763229022\n",
      "Recall: 0.9999304763229022\n",
      "Precision: 0.9998609574793461\n",
      "F1-score: 0.9998957156927807\n",
      "MSE: 6.728479596003881e-05\n"
     ]
    }
   ],
   "source": [
    "y_pred_proba, classifer, eval = fit_eval_model(\n",
    "    binary_model_dict['LogisticRegression'],\n",
    "    X_train, y_train_binary,\n",
    "    X_test, y_test_binary,\n",
    "    label_name = 'LogisticRegression')"
   ]
  },
  {
   "cell_type": "code",
   "execution_count": 31,
   "metadata": {},
   "outputs": [
    {
     "data": {
      "text/plain": [
       "array([[0., 1., 0., ..., 1., 1., 1.],\n",
       "       [0., 1., 0., ..., 1., 1., 2.],\n",
       "       [1., 0., 0., ..., 2., 1., 1.],\n",
       "       ...,\n",
       "       [1., 0., 0., ..., 1., 1., 3.],\n",
       "       [0., 0., 0., ..., 1., 1., 2.],\n",
       "       [1., 0., 0., ..., 1., 1., 3.]])"
      ]
     },
     "execution_count": 31,
     "metadata": {},
     "output_type": "execute_result"
    }
   ],
   "source": [
    "X"
   ]
  },
  {
   "cell_type": "code",
   "execution_count": null,
   "metadata": {},
   "outputs": [],
   "source": []
  }
 ],
 "metadata": {
  "kernelspec": {
   "display_name": "RL",
   "language": "python",
   "name": "rl"
  },
  "language_info": {
   "codemirror_mode": {
    "name": "ipython",
    "version": 3
   },
   "file_extension": ".py",
   "mimetype": "text/x-python",
   "name": "python",
   "nbconvert_exporter": "python",
   "pygments_lexer": "ipython3",
   "version": "3.8.13"
  },
  "orig_nbformat": 4
 },
 "nbformat": 4,
 "nbformat_minor": 2
}
